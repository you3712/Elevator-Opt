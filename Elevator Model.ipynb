{
 "cells": [
  {
   "cell_type": "code",
   "execution_count": 4,
   "metadata": {},
   "outputs": [],
   "source": [
    "import numpy as np\n",
    "import pandas as pd\n",
    "import matplotlib.pyplot as plt\n",
    "from scipy import stats"
   ]
  },
  {
   "cell_type": "code",
   "execution_count": 7,
   "metadata": {},
   "outputs": [],
   "source": [
    "#Generates a request for the building to handle.\n",
    "#For now, I'll assume that the passenger can relay his/her desired destination in the lobby.\n",
    "#During \"downpeak\" hours it is likely to get a first floor request going up\n",
    "#During \"uppeak\" hours it is likely for a non-first floor request going down to first floor\n",
    "\n",
    "def generateReq(spec, numFloors):\n",
    "    if(spec == \"uppeak\"):\n",
    "        tmp = np.append([0.5], [0.5 /(numFloors-1)] * (numFloors - 1))\n",
    "        x = np.random.choice(numFloors, p=tmp)\n",
    "        y = np.random.choice(numFloors)\n",
    "        if(x==y):\n",
    "            return generateReq(spec, numFloors)\n",
    "        else:\n",
    "            return x,y\n",
    "    if(spec == \"downpeak\"):\n",
    "        tmp = np.append([0.5], [0.5 /(numFloors-1)] * (numFloors - 1))\n",
    "        x = np.random.choice(numFloors)\n",
    "        y = np.random.choice(numFloors, p = tmp)\n",
    "        if(x==y):\n",
    "            return generateReq(spec, numFloors)\n",
    "        else:\n",
    "            return x,y"
   ]
  },
  {
   "cell_type": "code",
   "execution_count": 162,
   "metadata": {},
   "outputs": [],
   "source": [
    "#The main class which includes all of the functionality for our system.\n",
    "class Building():\n",
    "    def __init__(self, numFloors, numElevators):\n",
    "        d = {'Floor':[0]*numElevators,\n",
    "             'Passengers':[0]*numElevators,\n",
    "             'Capacity':[1]*numElevators,\n",
    "             'Requests':[None]*numElevators,\n",
    "             'Direction':['nan']*numElevators,\n",
    "            }\n",
    "        self.Elevators = pd.DataFrame(d)\n",
    "        self.Elevators['Floor'] = np.random.randint(numFloors, size = numElevators)\n",
    "        e = {'Start':[None],\n",
    "             'End':[None],\n",
    "             'STime':[None]\n",
    "        }\n",
    "        self.Requests = pd.DataFrame(e)\n",
    "    \n",
    "    #Assigns a new request to an elevator. Eventually we want the Neural Network to make this decision.\n",
    "    def dispatch(self, Request, ID): \n",
    "        self.Requests.loc[ID] = Request\n",
    "        tmp = self.Elevators[self.Elevators['Capacity']!=self.Elevators['Passengers']]\n",
    "        dists = (tmp['Floor'] - self.Requests.loc[ID,'Start']).abs()\n",
    "        if(dists.shape[0] == 0):\n",
    "            print('All elevators are busy')\n",
    "            return False, 0\n",
    "        waitTime = np.amin(dists)        \n",
    "        self.Elevators.loc[np.argmin(dists),'Requests'] = [ID]\n",
    "        return True, waitTime\n",
    "        \n",
    "    #def control(): #Decides how elevators should move. Removes requests if they are finished.\n",
    "    #Later the Neural Network will also control this decision too."
   ]
  },
  {
   "cell_type": "code",
   "execution_count": 163,
   "metadata": {},
   "outputs": [
    {
     "name": "stdout",
     "output_type": "stream",
     "text": [
      "New Request: 2nd floor to 6th floor at time t=0\n",
      "Request assigned to elevator [1]\n"
     ]
    },
    {
     "data": {
      "text/html": [
       "<div>\n",
       "<style scoped>\n",
       "    .dataframe tbody tr th:only-of-type {\n",
       "        vertical-align: middle;\n",
       "    }\n",
       "\n",
       "    .dataframe tbody tr th {\n",
       "        vertical-align: top;\n",
       "    }\n",
       "\n",
       "    .dataframe thead th {\n",
       "        text-align: right;\n",
       "    }\n",
       "</style>\n",
       "<table border=\"1\" class=\"dataframe\">\n",
       "  <thead>\n",
       "    <tr style=\"text-align: right;\">\n",
       "      <th></th>\n",
       "      <th>Floor</th>\n",
       "      <th>Passengers</th>\n",
       "      <th>Capacity</th>\n",
       "      <th>Requests</th>\n",
       "      <th>Direction</th>\n",
       "    </tr>\n",
       "  </thead>\n",
       "  <tbody>\n",
       "    <tr>\n",
       "      <td>0</td>\n",
       "      <td>14</td>\n",
       "      <td>1</td>\n",
       "      <td>1</td>\n",
       "      <td>None</td>\n",
       "      <td>nan</td>\n",
       "    </tr>\n",
       "    <tr>\n",
       "      <td>1</td>\n",
       "      <td>6</td>\n",
       "      <td>0</td>\n",
       "      <td>1</td>\n",
       "      <td>0</td>\n",
       "      <td>nan</td>\n",
       "    </tr>\n",
       "    <tr>\n",
       "      <td>2</td>\n",
       "      <td>14</td>\n",
       "      <td>0</td>\n",
       "      <td>1</td>\n",
       "      <td>None</td>\n",
       "      <td>nan</td>\n",
       "    </tr>\n",
       "    <tr>\n",
       "      <td>3</td>\n",
       "      <td>15</td>\n",
       "      <td>0</td>\n",
       "      <td>1</td>\n",
       "      <td>None</td>\n",
       "      <td>nan</td>\n",
       "    </tr>\n",
       "  </tbody>\n",
       "</table>\n",
       "</div>"
      ],
      "text/plain": [
       "   Floor  Passengers  Capacity Requests Direction\n",
       "0     14           1         1     None       nan\n",
       "1      6           0         1        0       nan\n",
       "2     14           0         1     None       nan\n",
       "3     15           0         1     None       nan"
      ]
     },
     "metadata": {},
     "output_type": "display_data"
    }
   ],
   "source": [
    "building = Building(16, 4)\n",
    "building.Elevators.loc[0,'Passengers'] = 1\n",
    "building.dispatch([2, 6, 0], 0)\n",
    "print(\"New Request: 2nd floor to 6th floor at time t=0\")\n",
    "tmp=building.Elevators.index[building.Elevators['Requests'] == 0].tolist()\n",
    "print(\"Request assigned to elevator \" + str(tmp))\n",
    "display(building.Elevators)"
   ]
  },
  {
   "cell_type": "code",
   "execution_count": null,
   "metadata": {},
   "outputs": [],
   "source": []
  }
 ],
 "metadata": {
  "kernelspec": {
   "display_name": "Python 3",
   "language": "python",
   "name": "python3"
  },
  "language_info": {
   "codemirror_mode": {
    "name": "ipython",
    "version": 3
   },
   "file_extension": ".py",
   "mimetype": "text/x-python",
   "name": "python",
   "nbconvert_exporter": "python",
   "pygments_lexer": "ipython3",
   "version": "3.7.4"
  }
 },
 "nbformat": 4,
 "nbformat_minor": 2
}
