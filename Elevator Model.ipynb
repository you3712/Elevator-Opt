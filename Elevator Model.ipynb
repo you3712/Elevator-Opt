{
 "cells": [
  {
   "cell_type": "code",
   "execution_count": 4,
   "metadata": {},
   "outputs": [],
   "source": [
    "import numpy as np\n",
    "import matplotlib.pyplot as plt\n",
    "from scipy import stats"
   ]
  },
  {
   "cell_type": "code",
   "execution_count": 37,
   "metadata": {},
   "outputs": [],
   "source": [
    "#The class for a request\n",
    "class Request:\n",
    "    def __init__(self, start, end, startTime):\n",
    "        self.start = start\n",
    "        self.end = end\n",
    "        self.startTime = startTime\n",
    "\n",
    "#The class for each elevator (This should be changed to a dict-like structure later)\n",
    "class Elevator:\n",
    "    def __init__(self, floor):\n",
    "        self.currentFloor = floor\n",
    "        self.passenger = 0\n",
    "        self.busy = False\n",
    "    def setRequest(ID):\n",
    "        self.ID = ID\n",
    "\n",
    "#The main class which includes all of the functionality for our system.\n",
    "class Building():\n",
    "    def __init__(self, numFloors, numElevators):\n",
    "        self.numElevators = numElevators\n",
    "        self.numFloors = numFloors\n",
    "        self.Elevators = [None]*numElevators\n",
    "        for i in range(len(self.Elevators)):\n",
    "            self.Elevators[i] = Elevator(np.random.randint(1, self.numFloors+1))\n",
    "        \n",
    "        self.Requests = {}\n",
    "        \n",
    "    def getFloors(self): #Get the current floor position of each elevator in the building\n",
    "        self.currentFloors = []\n",
    "        for i in self.Elevators:\n",
    "            self.currentFloors += [i.currentFloor]\n",
    "        return np.array(self.currentFloors)\n",
    "    \n",
    "    #Assigns a new request to an elevator. Eventually we want the Neural Network to make this decision.\n",
    "    def dispatch(self, Request, ID): \n",
    "        self.Requests[ID] = Request\n",
    "        tmp = [Request.start] * self.numElevators\n",
    "        tmp2 = self.getFloors()\n",
    "        print(self.Elevators[0].busy)\n",
    "        for i in range(self.numElevators):\n",
    "            if(self.Elevators[i].busy):\n",
    "                tmp2[i] = 32767\n",
    "        waitTime = np.amin(np.abs(tmp2 - tmp))\n",
    "        if(waitTime > numFloors):\n",
    "            print('All elevators are busy. The building will wait for a free elevator to dispatch')\n",
    "            return False\n",
    "        print(waitTime)\n",
    "        print(tmp2-tmp)\n",
    "        \n",
    "    #def control(): #Decides how elevators should move. Removes requests if they are finished.\n",
    "    #Later the Neural Network will also control this decision too."
   ]
  },
  {
   "cell_type": "code",
   "execution_count": 35,
   "metadata": {},
   "outputs": [],
   "source": [
    "#Generates a request for the building to handle.\n",
    "#For now, I'll assume that the passenger can relay his/her desired destination in the lobby.\n",
    "#During \"downpeak\" hours it is likely to get a first floor request going up\n",
    "#During \"uppeak\" hours it is likely for a non-first floor request going down to first floor\n",
    "\n",
    "def generateReq(spec, numFloors):\n",
    "    if(spec == \"uppeak\"):\n",
    "        tmp = np.append([0.5], [0.5 /(numFloors-1)] * (numFloors - 1))\n",
    "        x = np.random.choice(numFloors, p=tmp)\n",
    "        y = np.random.choice(numFloors)\n",
    "        if(x==y):\n",
    "            return generateReq(spec, numFloors)\n",
    "        else:\n",
    "            return x,y\n",
    "    if(spec == \"downpeak\"):\n",
    "        tmp = np.append([0.5], [0.5 /(numFloors-1)] * (numFloors - 1))\n",
    "        x = np.random.choice(numFloors)\n",
    "        y = np.random.choice(numFloors, p = tmp)\n",
    "        if(x==y):\n",
    "            return generateReq(spec, numFloors)\n",
    "        else:\n",
    "            return x,y"
   ]
  },
  {
   "cell_type": "code",
   "execution_count": 39,
   "metadata": {},
   "outputs": [
    {
     "name": "stdout",
     "output_type": "stream",
     "text": [
      "[6 3 7 8]\n",
      "True\n",
      "1\n",
      "[32763    -1     3     4]\n"
     ]
    }
   ],
   "source": [
    "building = Building(16, 4)\n",
    "print(building.getFloors())\n",
    "building.Elevators[0].busy = True\n",
    "\n",
    "building.dispatch(Request(4, 6, 0), 1)"
   ]
  },
  {
   "cell_type": "code",
   "execution_count": null,
   "metadata": {},
   "outputs": [],
   "source": []
  }
 ],
 "metadata": {
  "kernelspec": {
   "display_name": "Python 3",
   "language": "python",
   "name": "python3"
  },
  "language_info": {
   "codemirror_mode": {
    "name": "ipython",
    "version": 3
   },
   "file_extension": ".py",
   "mimetype": "text/x-python",
   "name": "python",
   "nbconvert_exporter": "python",
   "pygments_lexer": "ipython3",
   "version": "3.7.4"
  }
 },
 "nbformat": 4,
 "nbformat_minor": 2
}
