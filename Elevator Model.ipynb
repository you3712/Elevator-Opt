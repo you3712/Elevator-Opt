{
 "cells": [
  {
   "cell_type": "code",
   "execution_count": 49,
   "metadata": {},
   "outputs": [],
   "source": [
    "import numpy as np\n",
    "import matplotlib.pyplot as plt\n",
    "from scipy import stats"
   ]
  },
  {
   "cell_type": "code",
   "execution_count": 152,
   "metadata": {},
   "outputs": [],
   "source": [
    "#The class for a request\n",
    "class Request:\n",
    "    def __init__(self, start, end, startTime):\n",
    "        self.start = start\n",
    "        self.end = end\n",
    "        self.startTime = startTime\n",
    "\n",
    "#The class for each elevator\n",
    "class Elevator:\n",
    "    def __init__(self, floor):\n",
    "        self.currentFloor = floor\n",
    "        self.passenger = 0\n",
    "        self.busy = False\n",
    "    def setRequest(ID):\n",
    "        self.ID = ID\n",
    "\n",
    "#The main class which includes all of the functionality for our system.\n",
    "class Building():\n",
    "    def __init__(self, numFloors, numElevators):\n",
    "        self.numElevators = numElevators\n",
    "        self.numFloors = numFloors\n",
    "        self.Elevators = [None]*numElevators\n",
    "        for i in range(len(self.Elevators)):\n",
    "            self.Elevators[i] = Elevator(np.random.randint(1, self.numFloors+1))\n",
    "        \n",
    "        self.Requests = {}\n",
    "        \n",
    "    def getFloors(self): #Get the current floor position of each elevator in the building\n",
    "        self.currentFloors = []\n",
    "        for i in self.Elevators:\n",
    "            self.currentFloors += [i.currentFloor]\n",
    "        return np.array(self.currentFloors)\n",
    "    \n",
    "    def dispatch(self, Request, ID): #Assigns a new request to an elevator\n",
    "        self.Requests[ID] = Request\n",
    "        tmp = [Request.start] * self.numElevators\n",
    "        tmp2 = self.getFloors()\n",
    "        print(self.Elevators[0].busy)\n",
    "        for i in range(self.numElevators):\n",
    "            if(self.Elevators[i].busy):\n",
    "                tmp2[i] = 32767\n",
    "        waitTime = np.amin(np.abs(tmp2 - tmp))\n",
    "        print(waitTime)\n",
    "        print(tmp2-tmp)\n",
    "        \n",
    "    #def control(): #Decides how elevators should move. Removes requests if they are finished.\n",
    "        \n",
    "    "
   ]
  },
  {
   "cell_type": "code",
   "execution_count": 153,
   "metadata": {},
   "outputs": [
    {
     "name": "stdout",
     "output_type": "stream",
     "text": [
      "[ 8 11 10  1]\n",
      "True\n",
      "3\n",
      "[32763     7     6    -3]\n"
     ]
    }
   ],
   "source": [
    "building = Building(16, 4)\n",
    "print(building.getFloors())\n",
    "building.Elevators[0].busy = True\n",
    "\n",
    "building.dispatch(Request(4, 6, 0), 1)"
   ]
  },
  {
   "cell_type": "code",
   "execution_count": 148,
   "metadata": {},
   "outputs": [
    {
     "name": "stdout",
     "output_type": "stream",
     "text": [
      "True\n",
      "0\n",
      "[32762     0     0     0]\n"
     ]
    }
   ],
   "source": []
  },
  {
   "cell_type": "code",
   "execution_count": 136,
   "metadata": {},
   "outputs": [
    {
     "ename": "SyntaxError",
     "evalue": "invalid syntax (<ipython-input-136-c1f3e049e52c>, line 2)",
     "output_type": "error",
     "traceback": [
      "\u001b[0;36m  File \u001b[0;32m\"<ipython-input-136-c1f3e049e52c>\"\u001b[0;36m, line \u001b[0;32m2\u001b[0m\n\u001b[0;31m    if(spec = \"uppeak\"):\u001b[0m\n\u001b[0m            ^\u001b[0m\n\u001b[0;31mSyntaxError\u001b[0m\u001b[0;31m:\u001b[0m invalid syntax\n"
     ]
    }
   ],
   "source": [
    "def getStartFloor(spec):\n",
    "    if(spec = \"uppeak\"):\n",
    "        xk = np.arange(1,10)\n",
    "        pk = ()"
   ]
  },
  {
   "cell_type": "code",
   "execution_count": 112,
   "metadata": {},
   "outputs": [
    {
     "ename": "TypeError",
     "evalue": "unsupported operand type(s) for -: 'NoneType' and 'NoneType'",
     "output_type": "error",
     "traceback": [
      "\u001b[0;31m---------------------------------------------------------------------------\u001b[0m",
      "\u001b[0;31mTypeError\u001b[0m                                 Traceback (most recent call last)",
      "\u001b[0;32m<ipython-input-112-191018eb0799>\u001b[0m in \u001b[0;36m<module>\u001b[0;34m\u001b[0m\n\u001b[0;32m----> 1\u001b[0;31m \u001b[0mprint\u001b[0m\u001b[0;34m(\u001b[0m\u001b[0mnp\u001b[0m\u001b[0;34m.\u001b[0m\u001b[0marray\u001b[0m\u001b[0;34m(\u001b[0m\u001b[0;34m[\u001b[0m\u001b[0;32mNone\u001b[0m\u001b[0;34m,\u001b[0m \u001b[0;36m1\u001b[0m\u001b[0;34m,\u001b[0m \u001b[0;36m2\u001b[0m\u001b[0;34m,\u001b[0m \u001b[0;36m3\u001b[0m\u001b[0;34m]\u001b[0m\u001b[0;34m)\u001b[0m \u001b[0;34m-\u001b[0m \u001b[0mnp\u001b[0m\u001b[0;34m.\u001b[0m\u001b[0marray\u001b[0m\u001b[0;34m(\u001b[0m\u001b[0;34m[\u001b[0m\u001b[0;32mNone\u001b[0m\u001b[0;34m,\u001b[0m \u001b[0;36m0\u001b[0m\u001b[0;34m,\u001b[0m \u001b[0;36m1\u001b[0m\u001b[0;34m,\u001b[0m \u001b[0;36m2\u001b[0m\u001b[0;34m]\u001b[0m\u001b[0;34m)\u001b[0m\u001b[0;34m)\u001b[0m\u001b[0;34m\u001b[0m\u001b[0;34m\u001b[0m\u001b[0m\n\u001b[0m",
      "\u001b[0;31mTypeError\u001b[0m: unsupported operand type(s) for -: 'NoneType' and 'NoneType'"
     ]
    }
   ],
   "source": [
    "print(np.array([None, 1, 2, 3]) - np.array([None, 0, 1, 2]))"
   ]
  },
  {
   "cell_type": "code",
   "execution_count": null,
   "metadata": {},
   "outputs": [],
   "source": []
  }
 ],
 "metadata": {
  "kernelspec": {
   "display_name": "Python 3",
   "language": "python",
   "name": "python3"
  },
  "language_info": {
   "codemirror_mode": {
    "name": "ipython",
    "version": 3
   },
   "file_extension": ".py",
   "mimetype": "text/x-python",
   "name": "python",
   "nbconvert_exporter": "python",
   "pygments_lexer": "ipython3",
   "version": "3.7.4"
  }
 },
 "nbformat": 4,
 "nbformat_minor": 2
}
