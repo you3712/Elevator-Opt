{
 "cells": [
  {
   "cell_type": "code",
   "execution_count": 1,
   "metadata": {},
   "outputs": [],
   "source": [
    "from IPython.display import HTML\n",
    "from datetime import time\n",
    "from datetime import datetime\n",
    "from datetime import timedelta\n",
    "from scipy import stats\n",
    "import numpy as np\n",
    "import pandas as pd"
   ]
  },
  {
   "cell_type": "code",
   "execution_count": 4,
   "metadata": {},
   "outputs": [],
   "source": [
    "def mockdata():\n",
    "    lederle = pd.DataFrame(columns = ['Floor', 'Mo', 'Tu', 'We', 'Th', 'Fr', 'StartTime', 'EndTime', 'Enrollment'])\n",
    "\n",
    "    for i in range(1, 30):\n",
    "        ctime = [50, 75]\n",
    "        cstyle = np.random.randint(2)\n",
    "        lederle.loc[i, ['Mo', 'We', 'Fr']] = bool(cstyle)\n",
    "        lederle.loc[i, ['Tu', 'Th']] = bool(1-cstyle)\n",
    "        dtstart = datetime.combine(datetime.today(), time(8, 10)) + timedelta(minutes = 30*np.random.randint(17))\n",
    "        dtend = dtstart + timedelta(minutes = ctime[cstyle])\n",
    "        lederle.loc[i, 'StartTime'] = time(dtstart.hour, dtstart.minute)\n",
    "        lederle.loc[i, 'EndTime'] = time(dtend.hour, dtend.minute)\n",
    "        lederle.loc[i, 'Floor'] = np.random.randint(16)+1\n",
    "        lederle.loc[i, 'Attendance'] = np.random.randint(10, 25)\n",
    "    \n",
    "    return lederle"
   ]
  },
  {
   "cell_type": "code",
   "execution_count": 21,
   "metadata": {},
   "outputs": [],
   "source": [
    "def getdayschedule(lederle, day):\n",
    "    lederle2 = lederle[lederle[day] == True]\n",
    "    lederle2 = lederle2[['StartTime', 'EndTime', 'Enrollment', 'Floor']]\n",
    "    return lederle2"
   ]
  },
  {
   "cell_type": "code",
   "execution_count": 3,
   "metadata": {},
   "outputs": [
    {
     "ename": "SyntaxError",
     "evalue": "invalid syntax (<ipython-input-3-7bc5b16ad84a>, line 9)",
     "output_type": "error",
     "traceback": [
      "\u001b[0;36m  File \u001b[0;32m\"<ipython-input-3-7bc5b16ad84a>\"\u001b[0;36m, line \u001b[0;32m9\u001b[0m\n\u001b[0;31m    ReqTime2 = datetime.combine(datetime.today(), i[EndTime]) + timedelta(minutes) = np.random.randint(10)\u001b[0m\n\u001b[0m           ^\u001b[0m\n\u001b[0;31mSyntaxError\u001b[0m\u001b[0;31m:\u001b[0m invalid syntax\n"
     ]
    }
   ],
   "source": [
    "Dist1 = stats.rv_discrete(name = 'dist1', values = (np.array([0.5] + [0.5/15]*15), np.arange(16)))\n",
    "\n",
    "def genrequests(lederle2):\n",
    "    requests = pd.DataFrame(['Time', 'StartFloor', 'EndFloor', 'UpDown'])\n",
    "    \n",
    "    for i in df.iterrows:\n",
    "        for j in range(int(i[Attendance] * 0.7)):\n",
    "            ReqTime = datetime.combine(datetime.today(), i[StartTime]) - timedelta(minutes = np.random.randint(10)\n",
    "            ReqTime2 = datetime.combine(datetime.today(), i[EndTime]) + timedelta(minutes) = np.random.randint(10)\n",
    "            requests[-1] = [ReqTime, Dist1.rvs(size=1).toint\n",
    "                        i[Floor]\n",
    "                        None]\n",
    "            requests.loc[:]                                                            \n",
    "            requests[-1] = [StartTime + timedelta]\n",
    "    "
   ]
  },
  {
   "cell_type": "code",
   "execution_count": 5,
   "metadata": {},
   "outputs": [
    {
     "name": "stdout",
     "output_type": "stream",
     "text": [
      "   Floor     Mo     Tu     We     Th     Fr StartTime   EndTime Attendance\n",
      "1      7   True  False   True  False   True  13:10:00  14:25:00         21\n",
      "2      5   True  False   True  False   True  10:10:00  11:25:00         16\n",
      "3      6   True  False   True  False   True  08:10:00  09:25:00         16\n",
      "4      4   True  False   True  False   True  10:10:00  11:25:00         12\n",
      "5     11   True  False   True  False   True  13:40:00  14:55:00         13\n",
      "6      8   True  False   True  False   True  09:40:00  10:55:00         13\n",
      "7      4  False   True  False   True  False  14:40:00  15:30:00         11\n",
      "8      9   True  False   True  False   True  13:10:00  14:25:00         18\n",
      "9      7   True  False   True  False   True  08:10:00  09:25:00         14\n",
      "10     3   True  False   True  False   True  12:40:00  13:55:00         20\n",
      "11    15  False   True  False   True  False  08:40:00  09:30:00         15\n",
      "12    16  False   True  False   True  False  11:40:00  12:30:00         12\n",
      "13    10  False   True  False   True  False  16:10:00  17:00:00         10\n",
      "14     3  False   True  False   True  False  12:10:00  13:00:00         18\n",
      "15     6   True  False   True  False   True  14:40:00  15:55:00         15\n",
      "16     4   True  False   True  False   True  14:10:00  15:25:00         18\n",
      "17     4  False   True  False   True  False  15:10:00  16:00:00         11\n",
      "18     2  False   True  False   True  False  16:10:00  17:00:00         13\n",
      "19    14   True  False   True  False   True  11:40:00  12:55:00         10\n",
      "20    13   True  False   True  False   True  08:40:00  09:55:00         22\n",
      "21     4  False   True  False   True  False  10:40:00  11:30:00         24\n",
      "22    12  False   True  False   True  False  11:40:00  12:30:00         15\n",
      "23     7  False   True  False   True  False  09:40:00  10:30:00         20\n",
      "24     8   True  False   True  False   True  16:10:00  17:25:00         15\n",
      "25     8   True  False   True  False   True  13:40:00  14:55:00         17\n",
      "26    12  False   True  False   True  False  14:10:00  15:00:00         18\n",
      "27    14   True  False   True  False   True  15:10:00  16:25:00         12\n",
      "28     1  False   True  False   True  False  15:10:00  16:00:00         15\n",
      "29     9   True  False   True  False   True  12:10:00  13:25:00         14\n"
     ]
    }
   ],
   "source": [
    "lederle = mockdata()  \n",
    "print(lederle)\n",
    "#lederle2 = genrequests(lederle, 'Mo')"
   ]
  },
  {
   "cell_type": "code",
   "execution_count": 24,
   "metadata": {},
   "outputs": [
    {
     "name": "stdout",
     "output_type": "stream",
     "text": [
      "   StartTime   EndTime Attendance Floor\n",
      "1   15:40:00  16:55:00         10     8\n",
      "2   13:40:00  14:55:00         22     7\n",
      "3   11:40:00  12:55:00         10    16\n",
      "4   15:40:00  16:55:00         19    13\n",
      "5   08:10:00  09:25:00         22     7\n",
      "6   14:40:00  15:55:00         22     1\n",
      "10  14:10:00  15:25:00         16     6\n",
      "11  08:10:00  09:25:00         24     8\n",
      "12  11:40:00  12:55:00         16     2\n",
      "15  15:40:00  16:55:00         24    15\n",
      "18  14:10:00  15:25:00         19     8\n",
      "19  16:10:00  17:25:00         17     5\n",
      "22  15:10:00  16:25:00         18    15\n",
      "25  16:10:00  17:25:00         21     3\n",
      "27  08:10:00  09:25:00         22     8\n"
     ]
    }
   ],
   "source": [
    "print(lederle2)"
   ]
  },
  {
   "cell_type": "code",
   "execution_count": 45,
   "metadata": {},
   "outputs": [],
   "source": [
    "prob1 = np.array([15]+[1]*15)\n",
    "\n",
    "Dist1 = stats.rv_discrete(name = 'dist1', values = (np.arange(1, 17), prob1/np.sum(prob1)))"
   ]
  },
  {
   "cell_type": "code",
   "execution_count": 46,
   "metadata": {},
   "outputs": [
    {
     "name": "stdout",
     "output_type": "stream",
     "text": [
      "<scipy.stats._distn_infrastructure.rv_sample object at 0x7fc952ecd650>\n"
     ]
    }
   ],
   "source": []
  },
  {
   "cell_type": "code",
   "execution_count": 47,
   "metadata": {},
   "outputs": [
    {
     "data": {
      "text/plain": [
       "array([ 3,  5,  1,  1, 13,  1,  3,  1, 12,  1])"
      ]
     },
     "execution_count": 47,
     "metadata": {},
     "output_type": "execute_result"
    }
   ],
   "source": [
    "Dist1.rvs(size=10)"
   ]
  },
  {
   "cell_type": "code",
   "execution_count": null,
   "metadata": {},
   "outputs": [],
   "source": []
  }
 ],
 "metadata": {
  "kernelspec": {
   "display_name": "Python 3",
   "language": "python",
   "name": "python3"
  },
  "language_info": {
   "codemirror_mode": {
    "name": "ipython",
    "version": 3
   },
   "file_extension": ".py",
   "mimetype": "text/x-python",
   "name": "python",
   "nbconvert_exporter": "python",
   "pygments_lexer": "ipython3",
   "version": "3.7.4"
  }
 },
 "nbformat": 4,
 "nbformat_minor": 2
}
